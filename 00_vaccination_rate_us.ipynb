{
 "cells": [
  {
   "attachments": {},
   "cell_type": "markdown",
   "metadata": {},
   "source": [
    "# Vaccination rate data in the US on county level:\n",
    "\n",
    "----------\n",
    "\n",
    "### Full list of US states and counties, their abbreviations and FIPS codes.\n",
    "\n",
    "`FIPS codes` are essential to merge datasets, as there are many duplicating county names across states, e.g. there are 31 Washington Counties across the US.\n",
    "\n",
    "---------\n",
    "\n",
    "### Get latest vaccination rates across the US counties:\n",
    "\n",
    "   - `CDC covid-19 tracker` [data](https://data.cdc.gov/Vaccinations/COVID-19-Vaccinations-in-the-United-States-County/8xkx-amqh)\n",
    "   - `Texas` [data](https://tabexternal.dshs.texas.gov/t/THD/views/COVID-19VaccineinTexasDashboard/Summary?%3Aembed=y)\n",
    "\n",
    "   - *data extracted on the 4th of October, so last included data were from the `3rd of October`*\n",
    "\n",
    "------------\n",
    "\n",
    "### Outcome measure:\n",
    "\n",
    "Use proportion and `pop over 12` or `pop over 18`, depending on which has more data.\n",
    "\n",
    "- `pop_full_12plus_per` - % population over 12yo fully vaccinated\n",
    "- `pop_full_18plus_per` - % population over 18yo fully vaccinated\n",
    "- `pop_full_65plus_per` - % population over 65yo fully vaccinated\n",
    "\n",
    "\n",
    "### Final csv `vaccination_rate_US.csv`\n",
    "\n",
    "- shape `3216,13` - includes `3137 US counties` (except Hawaii) & `79 US territories` (Guam + Puerto Rico)\n",
    "- columns of interest:\n",
    "\n",
    "- `fips` code - **`MERGE BY`**!\n",
    "- `state`\n",
    "- `county` - try not to merge based on this!\n",
    "- `state_abb`\n",
    "- `popfull_per` - not sure if the data for Texas is correct\n",
    "- `pop_full_12plus_per` - some data missing for 'Alaska' (3%), 'California' (13%), 'Idaho'\n",
    "- `pop_full_18plus_per` - data not recorded in Texas, California (13%)\n",
    "- `pop_full_65plus_per`\n",
    "- `pop_first_12plus_per`  - a lot of missing data on first dose data.\n",
    "- `pop_first_18plus_per` \n",
    "- `pop_first_65plus_per` \n",
    "- `svi` - basic sv index that came along with the dataset\n",
    "- `metro`\n"
   ]
  },
  {
   "cell_type": "markdown",
   "metadata": {},
   "source": [
    "------------\n",
    "## Scraping Wikipedia [US Counties Table](https://en.wikipedia.org/wiki/List_of_United_States_FIPS_codes_by_county) & [State Abbreviation](https://simple.wikipedia.org/wiki/List_of_U.S._states_by_traditional_abbreviation)\n",
    "\n",
    "*Using awesome the `Beautiful soup` and tips from [here](https://medium.com/analytics-vidhya/web-scraping-a-wikipedia-table-into-a-dataframe-c52617e1f451)*\n",
    "\n",
    "\n",
    "*As of 2020, there are 3,142 counties/county equivalents in the US. \n",
    "If the 100 county equivalents in the U.S. territories are counted, then the total is 3,242 counties.*"
   ]
  },
  {
   "cell_type": "code",
   "execution_count": 1,
   "metadata": {},
   "outputs": [],
   "source": [
    "import pandas as pd \n",
    "import requests               # library to handle requests\n",
    "from bs4 import BeautifulSoup # library to parse HTML documents"
   ]
  },
  {
   "cell_type": "code",
   "execution_count": 2,
   "metadata": {},
   "outputs": [
    {
     "name": "stdout",
     "output_type": "stream",
     "text": [
      "200\n"
     ]
    }
   ],
   "source": [
    "wikiurl = \"https://en.wikipedia.org/wiki/List_of_United_States_FIPS_codes_by_county#Table\"\n",
    "table_class = \"wikitable sortable jquery-tablesorter\"\n",
    "response = requests.get(wikiurl)\n",
    "print(response.status_code) # check response"
   ]
  },
  {
   "cell_type": "code",
   "execution_count": 3,
   "metadata": {},
   "outputs": [],
   "source": [
    "# parse data from the html into a beautifulsoup object\n",
    "soup = BeautifulSoup(response.text, 'html.parser')\n",
    "indiatable = soup.find('table',{'class':\"wikitable\"})"
   ]
  },
  {
   "cell_type": "code",
   "execution_count": 4,
   "metadata": {},
   "outputs": [
    {
     "data": {
      "text/html": [
       "<div>\n",
       "<style scoped>\n",
       "    .dataframe tbody tr th:only-of-type {\n",
       "        vertical-align: middle;\n",
       "    }\n",
       "\n",
       "    .dataframe tbody tr th {\n",
       "        vertical-align: top;\n",
       "    }\n",
       "\n",
       "    .dataframe thead th {\n",
       "        text-align: right;\n",
       "    }\n",
       "</style>\n",
       "<table border=\"1\" class=\"dataframe\">\n",
       "  <thead>\n",
       "    <tr style=\"text-align: right;\">\n",
       "      <th></th>\n",
       "      <th>FIPS</th>\n",
       "      <th>County or equivalent</th>\n",
       "      <th>State or equivalent</th>\n",
       "    </tr>\n",
       "  </thead>\n",
       "  <tbody>\n",
       "    <tr>\n",
       "      <td>0</td>\n",
       "      <td>1001</td>\n",
       "      <td>Autauga County</td>\n",
       "      <td>Alabama</td>\n",
       "    </tr>\n",
       "    <tr>\n",
       "      <td>1</td>\n",
       "      <td>1003</td>\n",
       "      <td>Baldwin County</td>\n",
       "      <td>Alabama</td>\n",
       "    </tr>\n",
       "    <tr>\n",
       "      <td>2</td>\n",
       "      <td>1005</td>\n",
       "      <td>Barbour County</td>\n",
       "      <td>Alabama</td>\n",
       "    </tr>\n",
       "    <tr>\n",
       "      <td>3</td>\n",
       "      <td>1007</td>\n",
       "      <td>Bibb County</td>\n",
       "      <td>Alabama</td>\n",
       "    </tr>\n",
       "    <tr>\n",
       "      <td>4</td>\n",
       "      <td>1009</td>\n",
       "      <td>Blount County</td>\n",
       "      <td>Alabama</td>\n",
       "    </tr>\n",
       "  </tbody>\n",
       "</table>\n",
       "</div>"
      ],
      "text/plain": [
       "   FIPS County or equivalent State or equivalent\n",
       "0  1001       Autauga County             Alabama\n",
       "1  1003       Baldwin County             Alabama\n",
       "2  1005       Barbour County             Alabama\n",
       "3  1007          Bibb County             Alabama\n",
       "4  1009        Blount County             Alabama"
      ]
     },
     "execution_count": 4,
     "metadata": {},
     "output_type": "execute_result"
    }
   ],
   "source": [
    "fips = pd.read_html(str(indiatable))\n",
    "fips = pd.DataFrame(fips[0])\n",
    "fips.head(n = 5)"
   ]
  },
  {
   "cell_type": "code",
   "execution_count": 5,
   "metadata": {},
   "outputs": [],
   "source": [
    "mapping = {'FIPS': 'fips',\n",
    "           'County or equivalent': 'county',\n",
    "           'State or equivalent': 'state'}\n",
    "\n",
    "fips.rename(columns = mapping, inplace = True)"
   ]
  },
  {
   "cell_type": "markdown",
   "metadata": {},
   "source": [
    "***Clean county/state names***\n",
    "\n",
    "remove `[*` and `(*`"
   ]
  },
  {
   "cell_type": "code",
   "execution_count": 6,
   "metadata": {},
   "outputs": [],
   "source": [
    "def clean_county(row):\n",
    "    row['county'] = row['county'].split('[',1)[0]\n",
    "    row['state'] = row['state'].split(' (', 1)[0]\n",
    "    return(row)\n",
    "\n",
    "fips = fips.apply(clean_county, axis = 'columns')"
   ]
  },
  {
   "cell_type": "code",
   "execution_count": 7,
   "metadata": {},
   "outputs": [
    {
     "name": "stdout",
     "output_type": "stream",
     "text": [
      "fips      0\n",
      "county    0\n",
      "state     0\n",
      "dtype: int64\n",
      "Number of unique county names in df: 1977\n",
      "Number of counties in df: 3242\n"
     ]
    }
   ],
   "source": [
    "print(fips.isnull().sum())\n",
    "\n",
    "print('Number of unique county names in df:', fips['county'].unique().shape[0])\n",
    "print('Number of counties in df:', fips.shape[0])"
   ]
  },
  {
   "cell_type": "code",
   "execution_count": 8,
   "metadata": {},
   "outputs": [
    {
     "data": {
      "text/plain": [
       "Washington County        30\n",
       "Jefferson County         25\n",
       "Franklin County          24\n",
       "Lincoln County           23\n",
       "Jackson County           23\n",
       "                         ..\n",
       "Olmsted County            1\n",
       "Dixon County              1\n",
       "McKean County             1\n",
       "Harrisonburg, City of     1\n",
       "Dolores County            1\n",
       "Name: county, Length: 1977, dtype: int64"
      ]
     },
     "execution_count": 8,
     "metadata": {},
     "output_type": "execute_result"
    }
   ],
   "source": [
    "fips['county'].value_counts() "
   ]
  },
  {
   "cell_type": "code",
   "execution_count": 9,
   "metadata": {},
   "outputs": [
    {
     "name": "stdout",
     "output_type": "stream",
     "text": [
      "unique number of states: 57\n",
      "\n",
      "['Alabama' 'Alaska' 'American Samoa' 'Arizona' 'Arkansas' 'California'\n",
      " 'Colorado' 'Connecticut' 'Delaware' 'District of Columbia' 'Florida'\n",
      " 'Georgia' 'Guam' 'Hawaiʻi' 'Idaho' 'Illinois' 'Indiana' 'Iowa' 'Kansas'\n",
      " 'Kentucky' 'Louisiana' 'Maine' 'Maryland' 'Massachusetts' 'Michigan'\n",
      " 'Minnesota' 'Mississippi' 'Missouri' 'Montana' 'Nebraska' 'Nevada'\n",
      " 'New Hampshire' 'New Jersey' 'New Mexico' 'New York' 'North Carolina'\n",
      " 'North Dakota' 'Northern Mariana Islands' 'Ohio' 'Oklahoma' 'Oregon'\n",
      " 'Pennsylvania' 'Puerto Rico' 'Rhode Island' 'South Carolina'\n",
      " 'South Dakota' 'Tennessee' 'Texas' 'U.S. Minor Outlying Islands' 'Utah'\n",
      " 'Vermont' 'Virgin Islands' 'Virginia' 'Washington' 'West Virginia'\n",
      " 'Wisconsin' 'Wyoming']\n"
     ]
    }
   ],
   "source": [
    "print('unique number of states:', len(fips['state'].unique()))\n",
    "print()\n",
    "print(fips['state'].unique())"
   ]
  },
  {
   "cell_type": "markdown",
   "metadata": {},
   "source": [
    "Fix `'Hawaiʻi'` to `'Hawaii'`\n"
   ]
  },
  {
   "cell_type": "code",
   "execution_count": 10,
   "metadata": {},
   "outputs": [
    {
     "data": {
      "text/html": [
       "<div>\n",
       "<style scoped>\n",
       "    .dataframe tbody tr th:only-of-type {\n",
       "        vertical-align: middle;\n",
       "    }\n",
       "\n",
       "    .dataframe tbody tr th {\n",
       "        vertical-align: top;\n",
       "    }\n",
       "\n",
       "    .dataframe thead th {\n",
       "        text-align: right;\n",
       "    }\n",
       "</style>\n",
       "<table border=\"1\" class=\"dataframe\">\n",
       "  <thead>\n",
       "    <tr style=\"text-align: right;\">\n",
       "      <th></th>\n",
       "      <th>fips</th>\n",
       "      <th>county</th>\n",
       "      <th>state</th>\n",
       "    </tr>\n",
       "  </thead>\n",
       "  <tbody>\n",
       "    <tr>\n",
       "      <td>552</td>\n",
       "      <td>15001</td>\n",
       "      <td>Hawaii County</td>\n",
       "      <td>Hawaii</td>\n",
       "    </tr>\n",
       "    <tr>\n",
       "      <td>553</td>\n",
       "      <td>15003</td>\n",
       "      <td>Honolulu, City and County of</td>\n",
       "      <td>Hawaii</td>\n",
       "    </tr>\n",
       "    <tr>\n",
       "      <td>554</td>\n",
       "      <td>15005</td>\n",
       "      <td>Kalawao County</td>\n",
       "      <td>Hawaii</td>\n",
       "    </tr>\n",
       "    <tr>\n",
       "      <td>555</td>\n",
       "      <td>15007</td>\n",
       "      <td>Kauai County</td>\n",
       "      <td>Hawaii</td>\n",
       "    </tr>\n",
       "    <tr>\n",
       "      <td>556</td>\n",
       "      <td>15009</td>\n",
       "      <td>Maui County</td>\n",
       "      <td>Hawaii</td>\n",
       "    </tr>\n",
       "  </tbody>\n",
       "</table>\n",
       "</div>"
      ],
      "text/plain": [
       "      fips                        county   state\n",
       "552  15001                 Hawaii County  Hawaii\n",
       "553  15003  Honolulu, City and County of  Hawaii\n",
       "554  15005                Kalawao County  Hawaii\n",
       "555  15007                  Kauai County  Hawaii\n",
       "556  15009                   Maui County  Hawaii"
      ]
     },
     "execution_count": 10,
     "metadata": {},
     "output_type": "execute_result"
    }
   ],
   "source": [
    "fips.loc[fips['state'] == 'Hawaiʻi', ['state']] = 'Hawaii'\n",
    "fips[fips['state'] == 'Hawaii']"
   ]
  },
  {
   "cell_type": "code",
   "execution_count": 11,
   "metadata": {},
   "outputs": [],
   "source": [
    "fips.to_csv('./data/raw/us_fips_code.csv', index = False)"
   ]
  },
  {
   "cell_type": "markdown",
   "metadata": {},
   "source": [
    "### `fips` - fips, county, state"
   ]
  },
  {
   "cell_type": "markdown",
   "metadata": {},
   "source": [
    "*Get abbreviation for the 51 states:*"
   ]
  },
  {
   "cell_type": "code",
   "execution_count": 12,
   "metadata": {},
   "outputs": [
    {
     "name": "stdout",
     "output_type": "stream",
     "text": [
      "200\n"
     ]
    }
   ],
   "source": [
    "wikiurl = \"https://simple.wikipedia.org/wiki/List_of_U.S._states_by_traditional_abbreviation\"\n",
    "table_class = \"wikitable sortable jquery-tablesorter\"\n",
    "response = requests.get(wikiurl)\n",
    "print(response.status_code)"
   ]
  },
  {
   "cell_type": "code",
   "execution_count": 13,
   "metadata": {},
   "outputs": [
    {
     "data": {
      "text/html": [
       "<div>\n",
       "<style scoped>\n",
       "    .dataframe tbody tr th:only-of-type {\n",
       "        vertical-align: middle;\n",
       "    }\n",
       "\n",
       "    .dataframe tbody tr th {\n",
       "        vertical-align: top;\n",
       "    }\n",
       "\n",
       "    .dataframe thead th {\n",
       "        text-align: right;\n",
       "    }\n",
       "</style>\n",
       "<table border=\"1\" class=\"dataframe\">\n",
       "  <thead>\n",
       "    <tr style=\"text-align: right;\">\n",
       "      <th></th>\n",
       "      <th>State</th>\n",
       "      <th>Traditionalabbreviation</th>\n",
       "      <th>Otherabbreviations</th>\n",
       "    </tr>\n",
       "  </thead>\n",
       "  <tbody>\n",
       "    <tr>\n",
       "      <td>0</td>\n",
       "      <td>Alabama</td>\n",
       "      <td>Ala.</td>\n",
       "      <td>AL</td>\n",
       "    </tr>\n",
       "    <tr>\n",
       "      <td>1</td>\n",
       "      <td>Alaska</td>\n",
       "      <td>Alaska</td>\n",
       "      <td>AK</td>\n",
       "    </tr>\n",
       "    <tr>\n",
       "      <td>2</td>\n",
       "      <td>Arizona</td>\n",
       "      <td>Ariz.</td>\n",
       "      <td>AZ</td>\n",
       "    </tr>\n",
       "    <tr>\n",
       "      <td>3</td>\n",
       "      <td>Arkansas</td>\n",
       "      <td>Ark.</td>\n",
       "      <td>AR</td>\n",
       "    </tr>\n",
       "    <tr>\n",
       "      <td>4</td>\n",
       "      <td>California</td>\n",
       "      <td>Calif.</td>\n",
       "      <td>CA</td>\n",
       "    </tr>\n",
       "  </tbody>\n",
       "</table>\n",
       "</div>"
      ],
      "text/plain": [
       "        State Traditionalabbreviation Otherabbreviations\n",
       "0     Alabama                    Ala.                 AL\n",
       "1      Alaska                  Alaska                 AK\n",
       "2     Arizona                   Ariz.                 AZ\n",
       "3    Arkansas                    Ark.                 AR\n",
       "4  California                  Calif.                 CA"
      ]
     },
     "execution_count": 13,
     "metadata": {},
     "output_type": "execute_result"
    }
   ],
   "source": [
    "soup = BeautifulSoup(response.text, 'html.parser')\n",
    "indiatable = soup.find('table',{'class':\"wikitable\"})\n",
    "state = pd.read_html(str(indiatable))\n",
    "state = pd.DataFrame(state[0])\n",
    "state.head(n = 5)"
   ]
  },
  {
   "cell_type": "code",
   "execution_count": 14,
   "metadata": {},
   "outputs": [],
   "source": [
    "mapping = {'State': 'state',\n",
    "           'Traditionalabbreviation': 'abb_trad',\n",
    "           'Otherabbreviations': 'abb'}\n",
    "\n",
    "state.rename(columns = mapping, inplace = True)"
   ]
  },
  {
   "cell_type": "markdown",
   "metadata": {},
   "source": [
    "Add `GU` & `PR`  to dictionary"
   ]
  },
  {
   "cell_type": "code",
   "execution_count": 15,
   "metadata": {},
   "outputs": [],
   "source": [
    "gu = {'state':'Guam', 'abb_trad':'Guam', 'abb': 'GU'}\n",
    "pr = {'state':'Puerto Rico', 'abb_trad': 'P.R.', 'abb': 'PR'}\n",
    "#vi = {'state':'Virgin Islands', 'abb_trad':'V.I.', 'abb': 'VI'} # full vacc data available \n",
    "\n",
    "for new in (gu, pr):\n",
    "    state = state.append(new, ignore_index = True)\n",
    "    \n",
    "# fix Hawaii, Maine & Georgia:\n",
    "state.loc[state['state'] == 'Hawaii', ['abb']] = 'HI'\n",
    "state.loc[state['state'] == 'Maine', ['abb']] = 'ME'\n",
    "state.loc[state['abb'] == 'GA', ['state']] = 'Georgia'"
   ]
  },
  {
   "cell_type": "code",
   "execution_count": 16,
   "metadata": {},
   "outputs": [
    {
     "data": {
      "text/plain": [
       "dict_keys(['Alabama', 'Alaska', 'Arizona', 'Arkansas', 'California', 'Colorado', 'Connecticut', 'Delaware', 'District of Columbia', 'Florida', 'Georgia', 'Hawaii', 'Idaho', 'Illinois', 'Indiana', 'Iowa', 'Kansas', 'Kentucky', 'Louisiana', 'Maine', 'Maryland', 'Massachusetts', 'Michigan', 'Minnesota', 'Mississippi', 'Missouri', 'Montana', 'Nebraska', 'Nevada', 'New Hampshire', 'New Jersey', 'New Mexico', 'New York', 'North Carolina', 'North Dakota', 'Ohio', 'Oklahoma', 'Oregon', 'Pennsylvania', 'Rhode Island', 'South Carolina', 'South Dakota', 'Tennessee', 'Texas', 'Utah', 'Vermont', 'Virginia', 'Washington', 'West Virginia', 'Wisconsin', 'Wyoming', 'Guam', 'Puerto Rico'])"
      ]
     },
     "execution_count": 16,
     "metadata": {},
     "output_type": "execute_result"
    }
   ],
   "source": [
    "state_dict = dict(zip(state['state'], state['abb']))\n",
    "state_dict.keys()"
   ]
  },
  {
   "cell_type": "code",
   "execution_count": 17,
   "metadata": {},
   "outputs": [
    {
     "name": "stdout",
     "output_type": "stream",
     "text": [
      "dict_keys(['Alabama', 'Alaska', 'Arizona', 'Arkansas', 'California', 'Colorado', 'Connecticut', 'Delaware', 'District of Columbia', 'Florida', 'Georgia', 'Hawaii', 'Idaho', 'Illinois', 'Indiana', 'Iowa', 'Kansas', 'Kentucky', 'Louisiana', 'Maine', 'Maryland', 'Massachusetts', 'Michigan', 'Minnesota', 'Mississippi', 'Missouri', 'Montana', 'Nebraska', 'Nevada', 'New Hampshire', 'New Jersey', 'New Mexico', 'New York', 'North Carolina', 'North Dakota', 'Ohio', 'Oklahoma', 'Oregon', 'Pennsylvania', 'Rhode Island', 'South Carolina', 'South Dakota', 'Tennessee', 'Texas', 'Utah', 'Vermont', 'Virginia', 'Washington', 'West Virginia', 'Wisconsin', 'Wyoming', 'Guam', 'Puerto Rico'])\n",
      "\n",
      "53\n"
     ]
    }
   ],
   "source": [
    "#state_dict['Georgia'] = state_dict.pop('Template:Country data Georiga (U.S. state)) Georgia')\n",
    "\n",
    "print(state_dict.keys())\n",
    "print()\n",
    "print(len(state_dict.keys()))"
   ]
  },
  {
   "cell_type": "code",
   "execution_count": 18,
   "metadata": {},
   "outputs": [],
   "source": [
    "state.to_csv('./data/raw/us_states.csv', index = False)"
   ]
  },
  {
   "cell_type": "markdown",
   "metadata": {},
   "source": [
    "---------------\n",
    "## Final US `county/state data`\n",
    "\n",
    "### `us` - fips, county, state"
   ]
  },
  {
   "cell_type": "code",
   "execution_count": 19,
   "metadata": {},
   "outputs": [
    {
     "data": {
      "text/html": [
       "<div>\n",
       "<style scoped>\n",
       "    .dataframe tbody tr th:only-of-type {\n",
       "        vertical-align: middle;\n",
       "    }\n",
       "\n",
       "    .dataframe tbody tr th {\n",
       "        vertical-align: top;\n",
       "    }\n",
       "\n",
       "    .dataframe thead th {\n",
       "        text-align: right;\n",
       "    }\n",
       "</style>\n",
       "<table border=\"1\" class=\"dataframe\">\n",
       "  <thead>\n",
       "    <tr style=\"text-align: right;\">\n",
       "      <th></th>\n",
       "      <th>fips</th>\n",
       "      <th>county</th>\n",
       "      <th>state</th>\n",
       "      <th>state_abb</th>\n",
       "    </tr>\n",
       "  </thead>\n",
       "  <tbody>\n",
       "    <tr>\n",
       "      <td>0</td>\n",
       "      <td>1001</td>\n",
       "      <td>Autauga County</td>\n",
       "      <td>Alabama</td>\n",
       "      <td>AL</td>\n",
       "    </tr>\n",
       "    <tr>\n",
       "      <td>1</td>\n",
       "      <td>1003</td>\n",
       "      <td>Baldwin County</td>\n",
       "      <td>Alabama</td>\n",
       "      <td>AL</td>\n",
       "    </tr>\n",
       "    <tr>\n",
       "      <td>2</td>\n",
       "      <td>1005</td>\n",
       "      <td>Barbour County</td>\n",
       "      <td>Alabama</td>\n",
       "      <td>AL</td>\n",
       "    </tr>\n",
       "    <tr>\n",
       "      <td>3</td>\n",
       "      <td>1007</td>\n",
       "      <td>Bibb County</td>\n",
       "      <td>Alabama</td>\n",
       "      <td>AL</td>\n",
       "    </tr>\n",
       "    <tr>\n",
       "      <td>4</td>\n",
       "      <td>1009</td>\n",
       "      <td>Blount County</td>\n",
       "      <td>Alabama</td>\n",
       "      <td>AL</td>\n",
       "    </tr>\n",
       "  </tbody>\n",
       "</table>\n",
       "</div>"
      ],
      "text/plain": [
       "   fips          county    state state_abb\n",
       "0  1001  Autauga County  Alabama        AL\n",
       "1  1003  Baldwin County  Alabama        AL\n",
       "2  1005  Barbour County  Alabama        AL\n",
       "3  1007     Bibb County  Alabama        AL\n",
       "4  1009   Blount County  Alabama        AL"
      ]
     },
     "execution_count": 19,
     "metadata": {},
     "output_type": "execute_result"
    }
   ],
   "source": [
    "def get_abbr(row):\n",
    "    \n",
    "    row['state_abb'] = state_dict.get(row['state'])    \n",
    "    return(row)\n",
    "    \n",
    "us = fips.apply(get_abbr, axis = 'columns')\n",
    "us.head(n = 5)"
   ]
  },
  {
   "cell_type": "code",
   "execution_count": 20,
   "metadata": {},
   "outputs": [
    {
     "name": "stdout",
     "output_type": "stream",
     "text": [
      "Unique states (54,)\n",
      "Unique fips (3242,)\n",
      "Unique counties (1977,)\n"
     ]
    }
   ],
   "source": [
    "print('Unique states', us['state_abb'].unique().shape) # the 55 = None\n",
    "print('Unique fips', us['fips'].unique().shape)\n",
    "print('Unique counties', us['county'].unique().shape)"
   ]
  },
  {
   "cell_type": "markdown",
   "metadata": {},
   "source": [
    "`Unique states (54,)` - 51 states + 2 territories + None\n",
    "\n",
    "21 NaN for state_abb - terriroties not on the vacc dataset"
   ]
  },
  {
   "cell_type": "code",
   "execution_count": 21,
   "metadata": {},
   "outputs": [
    {
     "data": {
      "text/plain": [
       "fips          0\n",
       "county        0\n",
       "state         0\n",
       "state_abb    21\n",
       "dtype: int64"
      ]
     },
     "execution_count": 21,
     "metadata": {},
     "output_type": "execute_result"
    }
   ],
   "source": [
    "us.isnull().sum()"
   ]
  },
  {
   "cell_type": "code",
   "execution_count": 22,
   "metadata": {},
   "outputs": [],
   "source": [
    "us.to_csv('./data/raw/us_states_county_all.csv', index = False)"
   ]
  },
  {
   "cell_type": "code",
   "execution_count": 23,
   "metadata": {},
   "outputs": [
    {
     "name": "stdout",
     "output_type": "stream",
     "text": [
      "(3221, 4)\n"
     ]
    }
   ],
   "source": [
    "us = us.dropna(subset = ['state_abb'])\n",
    "print(us.shape)"
   ]
  },
  {
   "cell_type": "markdown",
   "metadata": {},
   "source": [
    "`total 3221 counties` - `3142` US + `79` terr"
   ]
  },
  {
   "cell_type": "code",
   "execution_count": 24,
   "metadata": {},
   "outputs": [],
   "source": [
    "us.to_csv('./data/raw/us_states_county.csv', index = False)"
   ]
  },
  {
   "cell_type": "markdown",
   "metadata": {},
   "source": [
    "--------------\n",
    "\n",
    "## CDC Covid-19 tracker `vaccination rate`\n",
    "\n",
    "*Variables:*\n",
    "\n",
    "- date - date data reported to the CDC \n",
    "- `FIPS` code\n",
    "- `recip_county`\n",
    "- `recip_state`\n",
    "- `series_complete_pop_pct` - Percent of people who are fully vaccinated (have second dose of a two-dose vaccine or one dose of a single-dose vaccine) based on the jurisdiction and county where recipient lives\n",
    "- sereies_complete_yes - Total number of people who are fully vaccinated (have second dose of a two-dose vaccine or one dose of a single-dose vaccine) based on the jurisdiction and county where recipient lives\n",
    "- series_complete_12plus - Total number of people 12+ who are fully vaccinated (have second dose of a two-dose vaccine or one dose of a single-dose vaccine) based on the jurisdiction where recipient lives\n",
    "- `Series_Complete_12PlusPop_Pct` - Percent of people 12+ who are fully vaccinated (have second dose of a two-dose vaccine or one dose of a single-dose vaccine) based on the jurisdiction where recipient lives\n",
    "- Series_Complete_18Plus - Total number of people 18+ who are fully vaccinated (have second dose of a two-dose vaccine or one dose of a single-dose vaccine) based on the jurisdiction and county where recipient lives\n",
    "- `Series_Complete_18PlusPop_Pct` - Percent of people 18+ who are fully vaccinated (have second dose of a two-dose vaccine or one dose of a single-dose vaccine) based on the jurisdiction and county where recipient lives\n",
    "- Series_Complete_65Plus - Total number of people 65+ who are fully vaccinated (have second dose of a two-dose vaccine or one dose of a single-dose vaccine) based on the jurisdiction where recipient lives\n",
    "- `Series_Complete_65PlusPop_Pct` - Percent of people 65+ who are fully vaccinated (have second dose of a two-dose vaccine or one dose of a single-dose vaccine) based on the jurisdiction where recipient lives\n",
    "- Completeness_pct - Represents the proportion of fully vaccinated people whose Federal Information Processing Standards (FIPS) code is reported and matches a valid county FIPS code in the jurisdiction.  \n",
    "- `Administered_Dose1_Pop_Pct` - Percent of Total Pop with at least one Dose by State of Residence\n",
    "- `SVI_CTGY` - SVI index\n",
    "- `Series_Complete_Pop_Pct_SVI` - Percent of Population Fully Vaccinated/SVI\n",
    "- `Metro_status` - Metro/Non-metro\n",
    "\n",
    "*FULL list of variables can be found [here](https://data.cdc.gov/Vaccinations/COVID-19-Vaccinations-in-the-United-States-County/8xkx-amqh).*\n",
    "\n",
    "\n",
    "\n",
    "*Notes:*\n",
    "\n",
    "- no data for `Texas`\n",
    "- original data 971k rows / 32 columns \n",
    "- county number 3223\n",
    "- data for `Puerto Rico` & `Guam`\n",
    "- data for `Virgin Islnads` not complete and will be dropped. \n",
    "- `Hawaii` no entries for prop data\n",
    "- No data on the following US territories: Americal Samoa, U.S. Minor Outlying Islands, Northern Mariana Islands"
   ]
  },
  {
   "cell_type": "code",
   "execution_count": 25,
   "metadata": {},
   "outputs": [],
   "source": [
    "import numpy as np\n",
    "import matplotlib.pyplot as plt"
   ]
  },
  {
   "cell_type": "code",
   "execution_count": 26,
   "metadata": {},
   "outputs": [
    {
     "name": "stdout",
     "output_type": "stream",
     "text": [
      "cdc df shape: (3282, 32)\n",
      "Index(['Date', 'FIPS', 'MMWR_week', 'Recip_County', 'Recip_State',\n",
      "       'Series_Complete_Pop_Pct', 'Series_Complete_Yes',\n",
      "       'Series_Complete_12Plus', 'Series_Complete_12PlusPop_Pct',\n",
      "       'Series_Complete_18Plus', 'Series_Complete_18PlusPop_Pct',\n",
      "       'Series_Complete_65Plus', 'Series_Complete_65PlusPop_Pct',\n",
      "       'Completeness_pct', 'Administered_Dose1_Recip',\n",
      "       'Administered_Dose1_Pop_Pct', 'Administered_Dose1_Recip_12Plus',\n",
      "       'Administered_Dose1_Recip_12PlusPop_Pct',\n",
      "       'Administered_Dose1_Recip_18Plus',\n",
      "       'Administered_Dose1_Recip_18PlusPop_Pct',\n",
      "       'Administered_Dose1_Recip_65Plus',\n",
      "       'Administered_Dose1_Recip_65PlusPop_Pct', 'SVI_CTGY',\n",
      "       'Series_Complete_Pop_Pct_SVI', 'Series_Complete_12PlusPop_Pct_SVI',\n",
      "       'Series_Complete_18PlusPop_Pct_SVI',\n",
      "       'Series_Complete_65PlusPop_Pct_SVI', 'Metro_status',\n",
      "       'Series_Complete_Pop_Pct_UR_Equity',\n",
      "       'Series_Complete_12PlusPop_Pct_UR_Equity',\n",
      "       'Series_Complete_18PlusPop_Pct_UR_Equity',\n",
      "       'Series_Complete_65PlusPop_Pct_UR_Equity'],\n",
      "      dtype='object')\n"
     ]
    }
   ],
   "source": [
    "cdc = pd.read_csv('./data/raw/vaccination_rate_CDC_031021.csv')\n",
    "print('cdc df shape:', cdc.shape)\n",
    "print(cdc.columns)"
   ]
  },
  {
   "cell_type": "code",
   "execution_count": 27,
   "metadata": {},
   "outputs": [],
   "source": [
    "cdc_upd = cdc[['FIPS','Recip_County','Recip_State','Series_Complete_Pop_Pct',\n",
    "              'Series_Complete_12PlusPop_Pct', 'Series_Complete_18PlusPop_Pct',\n",
    "              'Series_Complete_65PlusPop_Pct', 'Administered_Dose1_Pop_Pct',\n",
    "              'Administered_Dose1_Recip_12PlusPop_Pct', 'Administered_Dose1_Recip_18PlusPop_Pct',\n",
    "              'Administered_Dose1_Recip_65PlusPop_Pct', 'SVI_CTGY',\n",
    "              'Metro_status']]\n",
    "\n",
    "mapping = {'FIPS': 'fips',\n",
    "           'Recip_County': 'county',\n",
    "           'Recip_State': 'state_abb',\n",
    "           'Series_Complete_Pop_Pct': 'popfull_per',\n",
    "           'Series_Complete_12PlusPop_Pct': 'pop_full_12plus_per', \n",
    "           'Series_Complete_18PlusPop_Pct': 'pop_full_18plus_per',\n",
    "           'Series_Complete_65PlusPop_Pct': 'pop_full_65plus_per', \n",
    "           'Administered_Dose1_Pop_Pct': 'pop_first_per',\n",
    "           'Administered_Dose1_Recip_12PlusPop_Pct': 'pop_first_12plus_per', \n",
    "           'Administered_Dose1_Recip_18PlusPop_Pct': 'pop_first_18plus_per',\n",
    "           'Administered_Dose1_Recip_65PlusPop_Pct': 'pop_first_65plus_per', \n",
    "           'SVI_CTGY': 'svi',\n",
    "           'Metro_status': 'metro'}\n",
    "\n",
    "cdc_upd = cdc_upd.rename(columns = mapping)"
   ]
  },
  {
   "cell_type": "code",
   "execution_count": 28,
   "metadata": {},
   "outputs": [
    {
     "data": {
      "text/html": [
       "<div>\n",
       "<style scoped>\n",
       "    .dataframe tbody tr th:only-of-type {\n",
       "        vertical-align: middle;\n",
       "    }\n",
       "\n",
       "    .dataframe tbody tr th {\n",
       "        vertical-align: top;\n",
       "    }\n",
       "\n",
       "    .dataframe thead th {\n",
       "        text-align: right;\n",
       "    }\n",
       "</style>\n",
       "<table border=\"1\" class=\"dataframe\">\n",
       "  <thead>\n",
       "    <tr style=\"text-align: right;\">\n",
       "      <th></th>\n",
       "      <th>fips</th>\n",
       "      <th>county</th>\n",
       "      <th>state_abb</th>\n",
       "      <th>popfull_per</th>\n",
       "      <th>pop_full_12plus_per</th>\n",
       "      <th>pop_full_18plus_per</th>\n",
       "      <th>pop_full_65plus_per</th>\n",
       "      <th>pop_first_per</th>\n",
       "      <th>pop_first_12plus_per</th>\n",
       "      <th>pop_first_18plus_per</th>\n",
       "      <th>pop_first_65plus_per</th>\n",
       "      <th>svi</th>\n",
       "      <th>metro</th>\n",
       "    </tr>\n",
       "  </thead>\n",
       "  <tbody>\n",
       "    <tr>\n",
       "      <td>0</td>\n",
       "      <td>1001</td>\n",
       "      <td>Autauga County</td>\n",
       "      <td>AL</td>\n",
       "      <td>34.0</td>\n",
       "      <td>39.9</td>\n",
       "      <td>41.8</td>\n",
       "      <td>61.7</td>\n",
       "      <td>43.1</td>\n",
       "      <td>50.6</td>\n",
       "      <td>52.6</td>\n",
       "      <td>74.5</td>\n",
       "      <td>B</td>\n",
       "      <td>Metro</td>\n",
       "    </tr>\n",
       "    <tr>\n",
       "      <td>1</td>\n",
       "      <td>1003</td>\n",
       "      <td>Baldwin County</td>\n",
       "      <td>AL</td>\n",
       "      <td>42.7</td>\n",
       "      <td>49.5</td>\n",
       "      <td>51.9</td>\n",
       "      <td>75.3</td>\n",
       "      <td>54.4</td>\n",
       "      <td>63.0</td>\n",
       "      <td>65.7</td>\n",
       "      <td>91.1</td>\n",
       "      <td>A</td>\n",
       "      <td>Metro</td>\n",
       "    </tr>\n",
       "    <tr>\n",
       "      <td>2</td>\n",
       "      <td>1005</td>\n",
       "      <td>Barbour County</td>\n",
       "      <td>AL</td>\n",
       "      <td>35.7</td>\n",
       "      <td>41.1</td>\n",
       "      <td>43.0</td>\n",
       "      <td>66.1</td>\n",
       "      <td>46.6</td>\n",
       "      <td>53.8</td>\n",
       "      <td>56.0</td>\n",
       "      <td>76.3</td>\n",
       "      <td>D</td>\n",
       "      <td>Non-metro</td>\n",
       "    </tr>\n",
       "    <tr>\n",
       "      <td>3</td>\n",
       "      <td>1007</td>\n",
       "      <td>Bibb County</td>\n",
       "      <td>AL</td>\n",
       "      <td>29.7</td>\n",
       "      <td>34.2</td>\n",
       "      <td>35.7</td>\n",
       "      <td>57.0</td>\n",
       "      <td>37.3</td>\n",
       "      <td>42.8</td>\n",
       "      <td>44.7</td>\n",
       "      <td>64.5</td>\n",
       "      <td>C</td>\n",
       "      <td>Metro</td>\n",
       "    </tr>\n",
       "    <tr>\n",
       "      <td>4</td>\n",
       "      <td>1009</td>\n",
       "      <td>Blount County</td>\n",
       "      <td>AL</td>\n",
       "      <td>26.4</td>\n",
       "      <td>31.0</td>\n",
       "      <td>32.9</td>\n",
       "      <td>49.5</td>\n",
       "      <td>32.8</td>\n",
       "      <td>38.5</td>\n",
       "      <td>40.6</td>\n",
       "      <td>57.3</td>\n",
       "      <td>B</td>\n",
       "      <td>Metro</td>\n",
       "    </tr>\n",
       "  </tbody>\n",
       "</table>\n",
       "</div>"
      ],
      "text/plain": [
       "   fips          county state_abb  popfull_per  pop_full_12plus_per  \\\n",
       "0  1001  Autauga County        AL         34.0                 39.9   \n",
       "1  1003  Baldwin County        AL         42.7                 49.5   \n",
       "2  1005  Barbour County        AL         35.7                 41.1   \n",
       "3  1007     Bibb County        AL         29.7                 34.2   \n",
       "4  1009   Blount County        AL         26.4                 31.0   \n",
       "\n",
       "   pop_full_18plus_per  pop_full_65plus_per  pop_first_per  \\\n",
       "0                 41.8                 61.7           43.1   \n",
       "1                 51.9                 75.3           54.4   \n",
       "2                 43.0                 66.1           46.6   \n",
       "3                 35.7                 57.0           37.3   \n",
       "4                 32.9                 49.5           32.8   \n",
       "\n",
       "   pop_first_12plus_per  pop_first_18plus_per  pop_first_65plus_per svi  \\\n",
       "0                  50.6                  52.6                  74.5   B   \n",
       "1                  63.0                  65.7                  91.1   A   \n",
       "2                  53.8                  56.0                  76.3   D   \n",
       "3                  42.8                  44.7                  64.5   C   \n",
       "4                  38.5                  40.6                  57.3   B   \n",
       "\n",
       "       metro  \n",
       "0      Metro  \n",
       "1      Metro  \n",
       "2  Non-metro  \n",
       "3      Metro  \n",
       "4      Metro  "
      ]
     },
     "execution_count": 28,
     "metadata": {},
     "output_type": "execute_result"
    }
   ],
   "source": [
    "cdc_upd.head(n = 5)"
   ]
  },
  {
   "cell_type": "code",
   "execution_count": 29,
   "metadata": {},
   "outputs": [
    {
     "data": {
      "text/plain": [
       "fips                     0\n",
       "county                   0\n",
       "state_abb                0\n",
       "popfull_per              0\n",
       "pop_full_12plus_per     45\n",
       "pop_full_18plus_per      0\n",
       "pop_full_65plus_per      0\n",
       "pop_first_per            0\n",
       "pop_first_12plus_per    45\n",
       "pop_first_18plus_per     0\n",
       "pop_first_65plus_per     0\n",
       "svi                     63\n",
       "metro                   63\n",
       "dtype: int64"
      ]
     },
     "execution_count": 29,
     "metadata": {},
     "output_type": "execute_result"
    }
   ],
   "source": [
    "np.round((cdc_upd.isnull().sum() / cdc_upd.shape[0]) * 100, 2)\n",
    "cdc_upd.isnull().sum() "
   ]
  },
  {
   "cell_type": "code",
   "execution_count": 30,
   "metadata": {},
   "outputs": [
    {
     "data": {
      "text/plain": [
       "count     3282\n",
       "unique    3225\n",
       "top        UNK\n",
       "freq        58\n",
       "Name: fips, dtype: object"
      ]
     },
     "execution_count": 30,
     "metadata": {},
     "output_type": "execute_result"
    }
   ],
   "source": [
    "cdc_upd['fips'].describe() # 3224 + UNK\n",
    "# cdc_upd['fips'].count()  2382\n",
    "# cdc_upd['fips'].unique() 3225"
   ]
  },
  {
   "cell_type": "code",
   "execution_count": 31,
   "metadata": {},
   "outputs": [],
   "source": [
    "# cdc_upd[cdc_upd['fips'] == 'UNK']['county']\n",
    "cdc_upd['fips'] = cdc_upd['fips'].replace('UNK', np.nan)\n",
    "cdc_upd['county'] = cdc_upd['county'].replace('Unknown County', np.nan)\n",
    "cdc_upd.dropna(subset = ['fips','county'], inplace = True)\n",
    "\n",
    "# cdc_upd.info()   # fips object\n",
    "# us.info()        # fips int64\n",
    "cdc_upd['fips'] = cdc_upd['fips'].astype(int)"
   ]
  },
  {
   "cell_type": "code",
   "execution_count": 32,
   "metadata": {},
   "outputs": [
    {
     "data": {
      "text/html": [
       "<div>\n",
       "<style scoped>\n",
       "    .dataframe tbody tr th:only-of-type {\n",
       "        vertical-align: middle;\n",
       "    }\n",
       "\n",
       "    .dataframe tbody tr th {\n",
       "        vertical-align: top;\n",
       "    }\n",
       "\n",
       "    .dataframe thead th {\n",
       "        text-align: right;\n",
       "    }\n",
       "</style>\n",
       "<table border=\"1\" class=\"dataframe\">\n",
       "  <thead>\n",
       "    <tr style=\"text-align: right;\">\n",
       "      <th></th>\n",
       "      <th>fips</th>\n",
       "      <th>state</th>\n",
       "      <th>county</th>\n",
       "      <th>state_abb</th>\n",
       "      <th>popfull_per</th>\n",
       "      <th>pop_full_12plus_per</th>\n",
       "      <th>pop_full_18plus_per</th>\n",
       "      <th>pop_full_65plus_per</th>\n",
       "      <th>pop_first_per</th>\n",
       "      <th>pop_first_12plus_per</th>\n",
       "      <th>pop_first_18plus_per</th>\n",
       "      <th>pop_first_65plus_per</th>\n",
       "      <th>svi</th>\n",
       "      <th>metro</th>\n",
       "    </tr>\n",
       "  </thead>\n",
       "  <tbody>\n",
       "    <tr>\n",
       "      <td>0</td>\n",
       "      <td>1001</td>\n",
       "      <td>Alabama</td>\n",
       "      <td>Autauga County</td>\n",
       "      <td>AL</td>\n",
       "      <td>34.0</td>\n",
       "      <td>39.9</td>\n",
       "      <td>41.8</td>\n",
       "      <td>61.7</td>\n",
       "      <td>43.1</td>\n",
       "      <td>50.6</td>\n",
       "      <td>52.6</td>\n",
       "      <td>74.5</td>\n",
       "      <td>B</td>\n",
       "      <td>Metro</td>\n",
       "    </tr>\n",
       "    <tr>\n",
       "      <td>1</td>\n",
       "      <td>1003</td>\n",
       "      <td>Alabama</td>\n",
       "      <td>Baldwin County</td>\n",
       "      <td>AL</td>\n",
       "      <td>42.7</td>\n",
       "      <td>49.5</td>\n",
       "      <td>51.9</td>\n",
       "      <td>75.3</td>\n",
       "      <td>54.4</td>\n",
       "      <td>63.0</td>\n",
       "      <td>65.7</td>\n",
       "      <td>91.1</td>\n",
       "      <td>A</td>\n",
       "      <td>Metro</td>\n",
       "    </tr>\n",
       "    <tr>\n",
       "      <td>2</td>\n",
       "      <td>1005</td>\n",
       "      <td>Alabama</td>\n",
       "      <td>Barbour County</td>\n",
       "      <td>AL</td>\n",
       "      <td>35.7</td>\n",
       "      <td>41.1</td>\n",
       "      <td>43.0</td>\n",
       "      <td>66.1</td>\n",
       "      <td>46.6</td>\n",
       "      <td>53.8</td>\n",
       "      <td>56.0</td>\n",
       "      <td>76.3</td>\n",
       "      <td>D</td>\n",
       "      <td>Non-metro</td>\n",
       "    </tr>\n",
       "    <tr>\n",
       "      <td>3</td>\n",
       "      <td>1007</td>\n",
       "      <td>Alabama</td>\n",
       "      <td>Bibb County</td>\n",
       "      <td>AL</td>\n",
       "      <td>29.7</td>\n",
       "      <td>34.2</td>\n",
       "      <td>35.7</td>\n",
       "      <td>57.0</td>\n",
       "      <td>37.3</td>\n",
       "      <td>42.8</td>\n",
       "      <td>44.7</td>\n",
       "      <td>64.5</td>\n",
       "      <td>C</td>\n",
       "      <td>Metro</td>\n",
       "    </tr>\n",
       "    <tr>\n",
       "      <td>4</td>\n",
       "      <td>1009</td>\n",
       "      <td>Alabama</td>\n",
       "      <td>Blount County</td>\n",
       "      <td>AL</td>\n",
       "      <td>26.4</td>\n",
       "      <td>31.0</td>\n",
       "      <td>32.9</td>\n",
       "      <td>49.5</td>\n",
       "      <td>32.8</td>\n",
       "      <td>38.5</td>\n",
       "      <td>40.6</td>\n",
       "      <td>57.3</td>\n",
       "      <td>B</td>\n",
       "      <td>Metro</td>\n",
       "    </tr>\n",
       "  </tbody>\n",
       "</table>\n",
       "</div>"
      ],
      "text/plain": [
       "   fips    state          county state_abb  popfull_per  pop_full_12plus_per  \\\n",
       "0  1001  Alabama  Autauga County        AL         34.0                 39.9   \n",
       "1  1003  Alabama  Baldwin County        AL         42.7                 49.5   \n",
       "2  1005  Alabama  Barbour County        AL         35.7                 41.1   \n",
       "3  1007  Alabama     Bibb County        AL         29.7                 34.2   \n",
       "4  1009  Alabama   Blount County        AL         26.4                 31.0   \n",
       "\n",
       "   pop_full_18plus_per  pop_full_65plus_per  pop_first_per  \\\n",
       "0                 41.8                 61.7           43.1   \n",
       "1                 51.9                 75.3           54.4   \n",
       "2                 43.0                 66.1           46.6   \n",
       "3                 35.7                 57.0           37.3   \n",
       "4                 32.9                 49.5           32.8   \n",
       "\n",
       "   pop_first_12plus_per  pop_first_18plus_per  pop_first_65plus_per svi  \\\n",
       "0                  50.6                  52.6                  74.5   B   \n",
       "1                  63.0                  65.7                  91.1   A   \n",
       "2                  53.8                  56.0                  76.3   D   \n",
       "3                  42.8                  44.7                  64.5   C   \n",
       "4                  38.5                  40.6                  57.3   B   \n",
       "\n",
       "       metro  \n",
       "0      Metro  \n",
       "1      Metro  \n",
       "2  Non-metro  \n",
       "3      Metro  \n",
       "4      Metro  "
      ]
     },
     "execution_count": 32,
     "metadata": {},
     "output_type": "execute_result"
    }
   ],
   "source": [
    "vacc = pd.merge(us[['fips', 'state']], cdc_upd, how = 'left', on = 'fips')\n",
    "vacc.head(n = 5)"
   ]
  },
  {
   "cell_type": "code",
   "execution_count": 33,
   "metadata": {},
   "outputs": [
    {
     "data": {
      "text/plain": [
       "fips                     0\n",
       "state                    0\n",
       "county                   0\n",
       "state_abb                0\n",
       "popfull_per              0\n",
       "pop_full_12plus_per     44\n",
       "pop_full_18plus_per      0\n",
       "pop_full_65plus_per      0\n",
       "pop_first_per            0\n",
       "pop_first_12plus_per    44\n",
       "pop_first_18plus_per     0\n",
       "pop_first_65plus_per     0\n",
       "svi                      2\n",
       "metro                    2\n",
       "dtype: int64"
      ]
     },
     "execution_count": 33,
     "metadata": {},
     "output_type": "execute_result"
    }
   ],
   "source": [
    "vacc.isnull().sum()"
   ]
  },
  {
   "cell_type": "code",
   "execution_count": 34,
   "metadata": {},
   "outputs": [
    {
     "data": {
      "text/plain": [
       "3221"
      ]
     },
     "execution_count": 34,
     "metadata": {},
     "output_type": "execute_result"
    }
   ],
   "source": [
    "vacc['fips'].unique().shape[0]"
   ]
  },
  {
   "cell_type": "code",
   "execution_count": 35,
   "metadata": {},
   "outputs": [
    {
     "data": {
      "text/plain": [
       "(3221, 14)"
      ]
     },
     "execution_count": 35,
     "metadata": {},
     "output_type": "execute_result"
    }
   ],
   "source": [
    "vacc.shape"
   ]
  },
  {
   "cell_type": "markdown",
   "metadata": {},
   "source": [
    "----------------\n",
    "\n",
    "### `Texas data`\n",
    "\n",
    "*Variables:*\n",
    "\n",
    "- `County_name` (but no code)\n",
    "- `Estimated Coverage (12+ 1 Dose)`\n",
    "- `Estimated Coverage (12+ Fully)` \n",
    "- `Estimated Coverage (65+ 1 Dose)`\n",
    "- `Estimated Coverage (65+ Fully)`\n",
    "- `Percentage of Population Vaccinated` - unclear how was this derived. \n",
    "\n",
    "\n",
    "*Notes:*\n",
    "\n",
    "- no data on 18+"
   ]
  },
  {
   "cell_type": "code",
   "execution_count": 36,
   "metadata": {},
   "outputs": [
    {
     "data": {
      "text/html": [
       "<div>\n",
       "<style scoped>\n",
       "    .dataframe tbody tr th:only-of-type {\n",
       "        vertical-align: middle;\n",
       "    }\n",
       "\n",
       "    .dataframe tbody tr th {\n",
       "        vertical-align: top;\n",
       "    }\n",
       "\n",
       "    .dataframe thead th {\n",
       "        text-align: right;\n",
       "    }\n",
       "</style>\n",
       "<table border=\"1\" class=\"dataframe\">\n",
       "  <thead>\n",
       "    <tr style=\"text-align: right;\">\n",
       "      <th></th>\n",
       "      <th>Client County Name</th>\n",
       "      <th>Estimated Coverage (12+ 1 Dose)</th>\n",
       "      <th>Estimated Coverage (12+ Fully)</th>\n",
       "      <th>Estimated Coverage (65+ 1 Dose)</th>\n",
       "      <th>Estimated Coverage (65+ Fully)</th>\n",
       "      <th>Percentage of Population Vaccinated</th>\n",
       "      <th>County Name</th>\n",
       "      <th>PHR Critical Pop</th>\n",
       "      <th>Latitude (generated)</th>\n",
       "      <th>Longitude (generated)</th>\n",
       "      <th>FULLY_VACCINATED_CALC</th>\n",
       "      <th>Population 16Up</th>\n",
       "      <th>TOTAL_PEOPLE_CALC</th>\n",
       "    </tr>\n",
       "  </thead>\n",
       "  <tbody>\n",
       "    <tr>\n",
       "      <td>0</td>\n",
       "      <td>ANDERSON</td>\n",
       "      <td>0.472375</td>\n",
       "      <td>0.405322</td>\n",
       "      <td>0.699007</td>\n",
       "      <td>60.76%</td>\n",
       "      <td>0.472375</td>\n",
       "      <td>Anderson</td>\n",
       "      <td>4/5N</td>\n",
       "      <td>31.7951</td>\n",
       "      <td>-95.6887</td>\n",
       "      <td>20534</td>\n",
       "      <td>48045</td>\n",
       "      <td>23931</td>\n",
       "    </tr>\n",
       "    <tr>\n",
       "      <td>1</td>\n",
       "      <td>ANDREWS</td>\n",
       "      <td>0.549889</td>\n",
       "      <td>0.476553</td>\n",
       "      <td>0.868522</td>\n",
       "      <td>79.81%</td>\n",
       "      <td>0.549889</td>\n",
       "      <td>Andrews</td>\n",
       "      <td>09-Oct</td>\n",
       "      <td>32.2885</td>\n",
       "      <td>-102.6379</td>\n",
       "      <td>7083</td>\n",
       "      <td>13503</td>\n",
       "      <td>8173</td>\n",
       "    </tr>\n",
       "    <tr>\n",
       "      <td>2</td>\n",
       "      <td>ANGELINA</td>\n",
       "      <td>0.539801</td>\n",
       "      <td>0.469249</td>\n",
       "      <td>0.793857</td>\n",
       "      <td>74.03%</td>\n",
       "      <td>0.539801</td>\n",
       "      <td>Angelina</td>\n",
       "      <td>4/5N</td>\n",
       "      <td>31.2769</td>\n",
       "      <td>-94.6355</td>\n",
       "      <td>34014</td>\n",
       "      <td>67056</td>\n",
       "      <td>39128</td>\n",
       "    </tr>\n",
       "    <tr>\n",
       "      <td>3</td>\n",
       "      <td>ARANSAS</td>\n",
       "      <td>0.703849</td>\n",
       "      <td>0.613132</td>\n",
       "      <td>0.900162</td>\n",
       "      <td>81.86%</td>\n",
       "      <td>0.703849</td>\n",
       "      <td>Aransas</td>\n",
       "      <td>11</td>\n",
       "      <td>28.2209</td>\n",
       "      <td>-96.8754</td>\n",
       "      <td>12774</td>\n",
       "      <td>19803</td>\n",
       "      <td>14664</td>\n",
       "    </tr>\n",
       "    <tr>\n",
       "      <td>4</td>\n",
       "      <td>ARCHER</td>\n",
       "      <td>0.548322</td>\n",
       "      <td>0.493503</td>\n",
       "      <td>0.785927</td>\n",
       "      <td>74.72%</td>\n",
       "      <td>0.548322</td>\n",
       "      <td>Archer</td>\n",
       "      <td>02-Mar</td>\n",
       "      <td>33.6138</td>\n",
       "      <td>-98.6883</td>\n",
       "      <td>3646</td>\n",
       "      <td>6921</td>\n",
       "      <td>4051</td>\n",
       "    </tr>\n",
       "  </tbody>\n",
       "</table>\n",
       "</div>"
      ],
      "text/plain": [
       "  Client County Name  Estimated Coverage (12+ 1 Dose)  \\\n",
       "0           ANDERSON                         0.472375   \n",
       "1            ANDREWS                         0.549889   \n",
       "2           ANGELINA                         0.539801   \n",
       "3            ARANSAS                         0.703849   \n",
       "4             ARCHER                         0.548322   \n",
       "\n",
       "   Estimated Coverage (12+ Fully)  Estimated Coverage (65+ 1 Dose)  \\\n",
       "0                        0.405322                         0.699007   \n",
       "1                        0.476553                         0.868522   \n",
       "2                        0.469249                         0.793857   \n",
       "3                        0.613132                         0.900162   \n",
       "4                        0.493503                         0.785927   \n",
       "\n",
       "  Estimated Coverage (65+ Fully)  Percentage of Population Vaccinated  \\\n",
       "0                         60.76%                             0.472375   \n",
       "1                         79.81%                             0.549889   \n",
       "2                         74.03%                             0.539801   \n",
       "3                         81.86%                             0.703849   \n",
       "4                         74.72%                             0.548322   \n",
       "\n",
       "  County Name  PHR Critical Pop  Latitude (generated)  Longitude (generated)  \\\n",
       "0     Anderson             4/5N               31.7951               -95.6887   \n",
       "1      Andrews           09-Oct               32.2885              -102.6379   \n",
       "2     Angelina             4/5N               31.2769               -94.6355   \n",
       "3      Aransas               11               28.2209               -96.8754   \n",
       "4       Archer           02-Mar               33.6138               -98.6883   \n",
       "\n",
       "   FULLY_VACCINATED_CALC  Population 16Up  TOTAL_PEOPLE_CALC  \n",
       "0                  20534            48045              23931  \n",
       "1                   7083            13503               8173  \n",
       "2                  34014            67056              39128  \n",
       "3                  12774            19803              14664  \n",
       "4                   3646             6921               4051  "
      ]
     },
     "execution_count": 36,
     "metadata": {},
     "output_type": "execute_result"
    }
   ],
   "source": [
    "texas = pd.read_csv('./data/raw/vaccination_rate_texas_031021.csv')\n",
    "texas.head(n = 5)"
   ]
  },
  {
   "cell_type": "code",
   "execution_count": 37,
   "metadata": {},
   "outputs": [
    {
     "data": {
      "text/html": [
       "<div>\n",
       "<style scoped>\n",
       "    .dataframe tbody tr th:only-of-type {\n",
       "        vertical-align: middle;\n",
       "    }\n",
       "\n",
       "    .dataframe tbody tr th {\n",
       "        vertical-align: top;\n",
       "    }\n",
       "\n",
       "    .dataframe thead th {\n",
       "        text-align: right;\n",
       "    }\n",
       "</style>\n",
       "<table border=\"1\" class=\"dataframe\">\n",
       "  <thead>\n",
       "    <tr style=\"text-align: right;\">\n",
       "      <th></th>\n",
       "      <th>county_name</th>\n",
       "      <th>pop_first_12plus_per</th>\n",
       "      <th>pop_full_12plus_per</th>\n",
       "      <th>pop_first_65plus_per</th>\n",
       "      <th>pop_full_65plus_per</th>\n",
       "      <th>popfull_per</th>\n",
       "      <th>county</th>\n",
       "      <th>phr_crit_pop</th>\n",
       "      <th>lat</th>\n",
       "      <th>long</th>\n",
       "      <th>full_vac_num</th>\n",
       "      <th>pop_16plus</th>\n",
       "      <th>total_ppl</th>\n",
       "    </tr>\n",
       "  </thead>\n",
       "  <tbody>\n",
       "    <tr>\n",
       "      <td>0</td>\n",
       "      <td>ANDERSON</td>\n",
       "      <td>0.472375</td>\n",
       "      <td>0.405322</td>\n",
       "      <td>0.699007</td>\n",
       "      <td>60.76%</td>\n",
       "      <td>0.472375</td>\n",
       "      <td>Anderson</td>\n",
       "      <td>4/5N</td>\n",
       "      <td>31.7951</td>\n",
       "      <td>-95.6887</td>\n",
       "      <td>20534</td>\n",
       "      <td>48045</td>\n",
       "      <td>23931</td>\n",
       "    </tr>\n",
       "    <tr>\n",
       "      <td>1</td>\n",
       "      <td>ANDREWS</td>\n",
       "      <td>0.549889</td>\n",
       "      <td>0.476553</td>\n",
       "      <td>0.868522</td>\n",
       "      <td>79.81%</td>\n",
       "      <td>0.549889</td>\n",
       "      <td>Andrews</td>\n",
       "      <td>09-Oct</td>\n",
       "      <td>32.2885</td>\n",
       "      <td>-102.6379</td>\n",
       "      <td>7083</td>\n",
       "      <td>13503</td>\n",
       "      <td>8173</td>\n",
       "    </tr>\n",
       "    <tr>\n",
       "      <td>2</td>\n",
       "      <td>ANGELINA</td>\n",
       "      <td>0.539801</td>\n",
       "      <td>0.469249</td>\n",
       "      <td>0.793857</td>\n",
       "      <td>74.03%</td>\n",
       "      <td>0.539801</td>\n",
       "      <td>Angelina</td>\n",
       "      <td>4/5N</td>\n",
       "      <td>31.2769</td>\n",
       "      <td>-94.6355</td>\n",
       "      <td>34014</td>\n",
       "      <td>67056</td>\n",
       "      <td>39128</td>\n",
       "    </tr>\n",
       "    <tr>\n",
       "      <td>3</td>\n",
       "      <td>ARANSAS</td>\n",
       "      <td>0.703849</td>\n",
       "      <td>0.613132</td>\n",
       "      <td>0.900162</td>\n",
       "      <td>81.86%</td>\n",
       "      <td>0.703849</td>\n",
       "      <td>Aransas</td>\n",
       "      <td>11</td>\n",
       "      <td>28.2209</td>\n",
       "      <td>-96.8754</td>\n",
       "      <td>12774</td>\n",
       "      <td>19803</td>\n",
       "      <td>14664</td>\n",
       "    </tr>\n",
       "    <tr>\n",
       "      <td>4</td>\n",
       "      <td>ARCHER</td>\n",
       "      <td>0.548322</td>\n",
       "      <td>0.493503</td>\n",
       "      <td>0.785927</td>\n",
       "      <td>74.72%</td>\n",
       "      <td>0.548322</td>\n",
       "      <td>Archer</td>\n",
       "      <td>02-Mar</td>\n",
       "      <td>33.6138</td>\n",
       "      <td>-98.6883</td>\n",
       "      <td>3646</td>\n",
       "      <td>6921</td>\n",
       "      <td>4051</td>\n",
       "    </tr>\n",
       "  </tbody>\n",
       "</table>\n",
       "</div>"
      ],
      "text/plain": [
       "  county_name  pop_first_12plus_per  pop_full_12plus_per  \\\n",
       "0    ANDERSON              0.472375             0.405322   \n",
       "1     ANDREWS              0.549889             0.476553   \n",
       "2    ANGELINA              0.539801             0.469249   \n",
       "3     ARANSAS              0.703849             0.613132   \n",
       "4      ARCHER              0.548322             0.493503   \n",
       "\n",
       "   pop_first_65plus_per pop_full_65plus_per  popfull_per    county  \\\n",
       "0              0.699007              60.76%     0.472375  Anderson   \n",
       "1              0.868522              79.81%     0.549889   Andrews   \n",
       "2              0.793857              74.03%     0.539801  Angelina   \n",
       "3              0.900162              81.86%     0.703849   Aransas   \n",
       "4              0.785927              74.72%     0.548322    Archer   \n",
       "\n",
       "  phr_crit_pop      lat      long  full_vac_num  pop_16plus  total_ppl  \n",
       "0         4/5N  31.7951  -95.6887         20534       48045      23931  \n",
       "1       09-Oct  32.2885 -102.6379          7083       13503       8173  \n",
       "2         4/5N  31.2769  -94.6355         34014       67056      39128  \n",
       "3           11  28.2209  -96.8754         12774       19803      14664  \n",
       "4       02-Mar  33.6138  -98.6883          3646        6921       4051  "
      ]
     },
     "execution_count": 37,
     "metadata": {},
     "output_type": "execute_result"
    }
   ],
   "source": [
    "mapping = {'Client County Name': 'county_name', \n",
    "        'Estimated Coverage (12+ 1 Dose)': 'pop_first_12plus_per',\n",
    "        'Estimated Coverage (12+ Fully)': 'pop_full_12plus_per', \n",
    "        'Estimated Coverage (65+ 1 Dose)': 'pop_first_65plus_per',\n",
    "        'Estimated Coverage (65+ Fully)': 'pop_full_65plus_per', \n",
    "        'Percentage of Population Vaccinated': 'popfull_per',\n",
    "        'County Name ': 'county', \n",
    "        'PHR Critical Pop' : 'phr_crit_pop', \n",
    "        'Latitude (generated)': 'lat',\n",
    "        'Longitude (generated)': 'long', \n",
    "        'FULLY_VACCINATED_CALC' : 'full_vac_num',  \n",
    "        'Population 16Up': 'pop_16plus',   # old census\n",
    "        'TOTAL_PEOPLE_CALC': 'total_ppl'}  # old census\n",
    "\n",
    "texas.rename(columns = mapping, inplace = True)\n",
    "\n",
    "texas.head(n = 5)"
   ]
  },
  {
   "cell_type": "code",
   "execution_count": 38,
   "metadata": {},
   "outputs": [
    {
     "data": {
      "text/html": [
       "<div>\n",
       "<style scoped>\n",
       "    .dataframe tbody tr th:only-of-type {\n",
       "        vertical-align: middle;\n",
       "    }\n",
       "\n",
       "    .dataframe tbody tr th {\n",
       "        vertical-align: top;\n",
       "    }\n",
       "\n",
       "    .dataframe thead th {\n",
       "        text-align: right;\n",
       "    }\n",
       "</style>\n",
       "<table border=\"1\" class=\"dataframe\">\n",
       "  <thead>\n",
       "    <tr style=\"text-align: right;\">\n",
       "      <th></th>\n",
       "      <th>county</th>\n",
       "      <th>pop_first_12plus_per</th>\n",
       "      <th>pop_full_12plus_per</th>\n",
       "      <th>pop_first_65plus_per</th>\n",
       "      <th>pop_full_65plus_per</th>\n",
       "      <th>popfull_per</th>\n",
       "    </tr>\n",
       "  </thead>\n",
       "  <tbody>\n",
       "    <tr>\n",
       "      <td>0</td>\n",
       "      <td>Anderson</td>\n",
       "      <td>0.472375</td>\n",
       "      <td>0.405322</td>\n",
       "      <td>0.699007</td>\n",
       "      <td>60.76%</td>\n",
       "      <td>0.472375</td>\n",
       "    </tr>\n",
       "    <tr>\n",
       "      <td>1</td>\n",
       "      <td>Andrews</td>\n",
       "      <td>0.549889</td>\n",
       "      <td>0.476553</td>\n",
       "      <td>0.868522</td>\n",
       "      <td>79.81%</td>\n",
       "      <td>0.549889</td>\n",
       "    </tr>\n",
       "    <tr>\n",
       "      <td>2</td>\n",
       "      <td>Angelina</td>\n",
       "      <td>0.539801</td>\n",
       "      <td>0.469249</td>\n",
       "      <td>0.793857</td>\n",
       "      <td>74.03%</td>\n",
       "      <td>0.539801</td>\n",
       "    </tr>\n",
       "    <tr>\n",
       "      <td>3</td>\n",
       "      <td>Aransas</td>\n",
       "      <td>0.703849</td>\n",
       "      <td>0.613132</td>\n",
       "      <td>0.900162</td>\n",
       "      <td>81.86%</td>\n",
       "      <td>0.703849</td>\n",
       "    </tr>\n",
       "    <tr>\n",
       "      <td>4</td>\n",
       "      <td>Archer</td>\n",
       "      <td>0.548322</td>\n",
       "      <td>0.493503</td>\n",
       "      <td>0.785927</td>\n",
       "      <td>74.72%</td>\n",
       "      <td>0.548322</td>\n",
       "    </tr>\n",
       "  </tbody>\n",
       "</table>\n",
       "</div>"
      ],
      "text/plain": [
       "     county  pop_first_12plus_per  pop_full_12plus_per  pop_first_65plus_per  \\\n",
       "0  Anderson              0.472375             0.405322              0.699007   \n",
       "1   Andrews              0.549889             0.476553              0.868522   \n",
       "2  Angelina              0.539801             0.469249              0.793857   \n",
       "3   Aransas              0.703849             0.613132              0.900162   \n",
       "4    Archer              0.548322             0.493503              0.785927   \n",
       "\n",
       "  pop_full_65plus_per  popfull_per  \n",
       "0              60.76%     0.472375  \n",
       "1              79.81%     0.549889  \n",
       "2              74.03%     0.539801  \n",
       "3              81.86%     0.703849  \n",
       "4              74.72%     0.548322  "
      ]
     },
     "execution_count": 38,
     "metadata": {},
     "output_type": "execute_result"
    }
   ],
   "source": [
    "# remove some vars\n",
    "texas = texas[['county','pop_first_12plus_per','pop_full_12plus_per','pop_first_65plus_per',\n",
    "               'pop_full_65plus_per', 'popfull_per']]\n",
    "\n",
    "# fix pop_full_65plus_per:\n",
    "texas.head(n = 5)"
   ]
  },
  {
   "cell_type": "code",
   "execution_count": 39,
   "metadata": {},
   "outputs": [
    {
     "name": "stdout",
     "output_type": "stream",
     "text": [
      "<class 'pandas.core.frame.DataFrame'>\n",
      "RangeIndex: 254 entries, 0 to 253\n",
      "Data columns (total 6 columns):\n",
      "county                  254 non-null object\n",
      "pop_first_12plus_per    254 non-null float64\n",
      "pop_full_12plus_per     254 non-null float64\n",
      "pop_first_65plus_per    254 non-null float64\n",
      "pop_full_65plus_per     254 non-null float64\n",
      "popfull_per             254 non-null float64\n",
      "dtypes: float64(5), object(1)\n",
      "memory usage: 12.0+ KB\n"
     ]
    }
   ],
   "source": [
    "texas['pop_full_65plus_per'] = texas['pop_full_65plus_per'].str.replace('%','').astype(float)/100\n",
    "texas['county'] = texas['county']+' County' \n",
    "\n",
    "texas.info()"
   ]
  },
  {
   "cell_type": "code",
   "execution_count": 40,
   "metadata": {},
   "outputs": [
    {
     "name": "stdout",
     "output_type": "stream",
     "text": [
      "Total non Texas county number:  2967\n",
      "Unique county number:  1799\n"
     ]
    }
   ],
   "source": [
    "us_non_texas_counties = vacc[vacc['state'] != 'Texas']['county'].values.tolist()\n",
    "print('Total non Texas county number: ', len(us_non_texas_counties))\n",
    "print('Unique county number: ', len(set(us_non_texas_counties)))"
   ]
  },
  {
   "cell_type": "code",
   "execution_count": 41,
   "metadata": {},
   "outputs": [
    {
     "name": "stdout",
     "output_type": "stream",
     "text": [
      "254\n",
      "254\n",
      "symmetric_difference: []\n",
      "Unique Texas counties:  254\n"
     ]
    }
   ],
   "source": [
    "us_texas_counties = vacc[vacc['state'] == 'Texas']['county'].values.tolist()\n",
    "texas_counties = texas['county'].values.tolist()\n",
    "print(len(us_texas_counties))\n",
    "print(len(texas_counties))\n",
    "\n",
    "print('symmetric_difference:', list(set(us_texas_counties).symmetric_difference(set(texas_counties))))\n",
    "print('Unique Texas counties: ', len(set(texas_counties)))"
   ]
  },
  {
   "cell_type": "markdown",
   "metadata": {},
   "source": [
    "***All Texas counties present in both datasets, but there is a lot of name duplicates, so populate by fips rather than by county name***\n",
    "\n",
    "-------"
   ]
  },
  {
   "cell_type": "code",
   "execution_count": 42,
   "metadata": {},
   "outputs": [],
   "source": [
    "texas_fips = us[us['state'] == 'Texas']\n",
    "texas_fips_list = texas_fips['fips'].tolist()"
   ]
  },
  {
   "cell_type": "code",
   "execution_count": 43,
   "metadata": {},
   "outputs": [],
   "source": [
    "# texas.describe()\n",
    "texas = pd.merge(texas, texas_fips, how = 'left', on = 'county')"
   ]
  },
  {
   "cell_type": "code",
   "execution_count": 44,
   "metadata": {},
   "outputs": [
    {
     "data": {
      "text/html": [
       "<div>\n",
       "<style scoped>\n",
       "    .dataframe tbody tr th:only-of-type {\n",
       "        vertical-align: middle;\n",
       "    }\n",
       "\n",
       "    .dataframe tbody tr th {\n",
       "        vertical-align: top;\n",
       "    }\n",
       "\n",
       "    .dataframe thead th {\n",
       "        text-align: right;\n",
       "    }\n",
       "</style>\n",
       "<table border=\"1\" class=\"dataframe\">\n",
       "  <thead>\n",
       "    <tr style=\"text-align: right;\">\n",
       "      <th></th>\n",
       "      <th>county</th>\n",
       "      <th>pop_first_12plus_per</th>\n",
       "      <th>pop_full_12plus_per</th>\n",
       "      <th>pop_first_65plus_per</th>\n",
       "      <th>pop_full_65plus_per</th>\n",
       "      <th>popfull_per</th>\n",
       "      <th>fips</th>\n",
       "      <th>state</th>\n",
       "      <th>state_abb</th>\n",
       "    </tr>\n",
       "  </thead>\n",
       "  <tbody>\n",
       "    <tr>\n",
       "      <td>239</td>\n",
       "      <td>Webb County</td>\n",
       "      <td>0.9999</td>\n",
       "      <td>0.892335</td>\n",
       "      <td>0.988745</td>\n",
       "      <td>0.8788</td>\n",
       "      <td>0.9999</td>\n",
       "      <td>48479</td>\n",
       "      <td>Texas</td>\n",
       "      <td>TX</td>\n",
       "    </tr>\n",
       "  </tbody>\n",
       "</table>\n",
       "</div>"
      ],
      "text/plain": [
       "          county  pop_first_12plus_per  pop_full_12plus_per  \\\n",
       "239  Webb County                0.9999             0.892335   \n",
       "\n",
       "     pop_first_65plus_per  pop_full_65plus_per  popfull_per   fips  state  \\\n",
       "239              0.988745               0.8788       0.9999  48479  Texas   \n",
       "\n",
       "    state_abb  \n",
       "239        TX  "
      ]
     },
     "execution_count": 44,
     "metadata": {},
     "output_type": "execute_result"
    }
   ],
   "source": [
    "# test individual counties against map on website:\n",
    "# test individual counties for fips \n",
    "texas[texas['county'] == 'Gaines County']\n",
    "texas[texas['county'] == 'Webb County']"
   ]
  },
  {
   "cell_type": "markdown",
   "metadata": {},
   "source": [
    "*Populate the CDC df with Texas data (lazy):*"
   ]
  },
  {
   "cell_type": "code",
   "execution_count": 45,
   "metadata": {},
   "outputs": [],
   "source": [
    "dict_pop_first_12plus_per = dict(zip(texas['fips'], texas['pop_first_12plus_per']))\n",
    "dict_pop_full_12plus_per = dict(zip(texas['fips'], texas['pop_full_12plus_per']))\n",
    "dict_pop_first_65plus_per = dict(zip(texas['fips'], texas['pop_first_65plus_per']))\n",
    "dict_pop_full_65plus_per = dict(zip(texas['fips'], texas['pop_full_65plus_per']))\n",
    "dict_pop_full_per = dict(zip(texas['fips'], texas['popfull_per']))\n",
    "\n",
    "\n",
    "def fill_row(row):\n",
    "    \n",
    "    # NOTE MULTIPLY TO GET % DATA:\n",
    "    if row['fips'] in texas_fips_list:\n",
    "        row['pop_first_12plus_per'] = dict_pop_first_12plus_per.get(row['fips'])*100    \n",
    "        row['pop_full_12plus_per'] = dict_pop_full_12plus_per.get(row['fips']) *100    \n",
    "        row['pop_first_65plus_per'] = dict_pop_first_65plus_per.get(row['fips'])*100 \n",
    "        row['pop_full_65plus_per'] = dict_pop_full_65plus_per.get(row['fips']) *100\n",
    "        row['popfull_per'] = dict_pop_full_per.get(row['fips']) *100\n",
    "    \n",
    "    return(row)\n",
    "\n",
    "vacc = vacc.apply(fill_row, axis = 'columns')"
   ]
  },
  {
   "cell_type": "code",
   "execution_count": 46,
   "metadata": {},
   "outputs": [
    {
     "data": {
      "text/plain": [
       "fips                     0\n",
       "state                    0\n",
       "county                   0\n",
       "state_abb                0\n",
       "popfull_per              0\n",
       "pop_full_12plus_per     44\n",
       "pop_full_18plus_per      0\n",
       "pop_full_65plus_per      0\n",
       "pop_first_per            0\n",
       "pop_first_12plus_per    44\n",
       "pop_first_18plus_per     0\n",
       "pop_first_65plus_per     0\n",
       "svi                      2\n",
       "metro                    2\n",
       "dtype: int64"
      ]
     },
     "execution_count": 46,
     "metadata": {},
     "output_type": "execute_result"
    }
   ],
   "source": [
    "vacc.isnull().sum()"
   ]
  },
  {
   "cell_type": "markdown",
   "metadata": {},
   "source": [
    "**many cells are populated with 0s due to lack of data**"
   ]
  },
  {
   "cell_type": "code",
   "execution_count": 47,
   "metadata": {},
   "outputs": [
    {
     "data": {
      "text/plain": [
       "fips                      0\n",
       "state                     0\n",
       "county                    0\n",
       "state_abb                 0\n",
       "popfull_per              13\n",
       "pop_full_12plus_per      58\n",
       "pop_full_18plus_per     267\n",
       "pop_full_65plus_per      13\n",
       "pop_first_per           408\n",
       "pop_first_12plus_per    286\n",
       "pop_first_18plus_per    495\n",
       "pop_first_65plus_per    241\n",
       "svi                       2\n",
       "metro                     2\n",
       "dtype: int64"
      ]
     },
     "execution_count": 47,
     "metadata": {},
     "output_type": "execute_result"
    }
   ],
   "source": [
    "vacc.replace(0, np.nan).isnull().sum()"
   ]
  },
  {
   "cell_type": "markdown",
   "metadata": {},
   "source": [
    "#### Replace `0s` with `np.nan`"
   ]
  },
  {
   "cell_type": "code",
   "execution_count": 48,
   "metadata": {},
   "outputs": [],
   "source": [
    "vacc.replace(0, np.nan, inplace = True)"
   ]
  },
  {
   "cell_type": "code",
   "execution_count": 49,
   "metadata": {},
   "outputs": [],
   "source": [
    "var = ['popfull_per', 'pop_full_12plus_per','pop_full_18plus_per','pop_full_65plus_per',\n",
    "       'pop_first_per','pop_first_12plus_per','pop_first_18plus_per','pop_first_65plus_per']\n",
    "\n",
    "for v in var:\n",
    "    vacc[v] = np.round(vacc[v].astype('float'),1)\n"
   ]
  },
  {
   "cell_type": "code",
   "execution_count": 50,
   "metadata": {},
   "outputs": [],
   "source": [
    "# check distributions of vaccination data:\n",
    "\n",
    "# for var in ['popfull_per', 'pop_full_12plus_per','pop_full_18plus_per','pop_full_65plus_per',\n",
    "#           'pop_first_per','pop_first_12plus_per','pop_first_18plus_per','pop_first_65plus_per']:\n",
    "    \n",
    "    # plt.subplots(1, figsize = (4.5,3))\n",
    "    # plt.title(var)\n",
    "    # plt.hist(vacc[var])"
   ]
  },
  {
   "cell_type": "code",
   "execution_count": 51,
   "metadata": {},
   "outputs": [
    {
     "name": "stdout",
     "output_type": "stream",
     "text": [
      "<class 'pandas.core.frame.DataFrame'>\n",
      "Int64Index: 3221 entries, 0 to 3220\n",
      "Data columns (total 14 columns):\n",
      "fips                    3221 non-null int64\n",
      "state                   3221 non-null object\n",
      "county                  3221 non-null object\n",
      "state_abb               3221 non-null object\n",
      "popfull_per             3208 non-null float64\n",
      "pop_full_12plus_per     3163 non-null float64\n",
      "pop_full_18plus_per     2954 non-null float64\n",
      "pop_full_65plus_per     3208 non-null float64\n",
      "pop_first_per           2813 non-null float64\n",
      "pop_first_12plus_per    2935 non-null float64\n",
      "pop_first_18plus_per    2726 non-null float64\n",
      "pop_first_65plus_per    2980 non-null float64\n",
      "svi                     3219 non-null object\n",
      "metro                   3219 non-null object\n",
      "dtypes: float64(8), int64(1), object(5)\n",
      "memory usage: 377.5+ KB\n"
     ]
    }
   ],
   "source": [
    "vacc.info()"
   ]
  },
  {
   "cell_type": "markdown",
   "metadata": {},
   "source": [
    "## observations final vacc data:"
   ]
  },
  {
   "cell_type": "code",
   "execution_count": 57,
   "metadata": {},
   "outputs": [
    {
     "name": "stdout",
     "output_type": "stream",
     "text": [
      "popfull_per\n",
      "{'California'}\n",
      "\n",
      "pop_full_12plus_per\n",
      "{'Alaska', 'California', 'Idaho'}\n",
      "\n",
      "pop_full_18plus_per\n",
      "{'California', 'Texas'}\n",
      "\n",
      "pop_full_65plus_per\n",
      "{'California'}\n",
      "\n",
      "pop_first_per\n",
      "{'Michigan', 'Nebraska', 'New Mexico', 'California', 'South Dakota', 'Georgia', 'Texas'}\n",
      "\n",
      "pop_first_12plus_per\n",
      "{'Alaska', 'Michigan', 'Kentucky', 'Minnesota', 'Nebraska', 'New Mexico', 'California', 'Indiana', 'South Dakota', 'Montana', 'Georgia', 'Pennsylvania', 'Virginia', 'Oklahoma', 'Colorado', 'Guam', 'Idaho'}\n",
      "\n",
      "pop_first_18plus_per\n",
      "{'Alaska', 'Michigan', 'Kentucky', 'Minnesota', 'Nebraska', 'New Mexico', 'California', 'South Dakota', 'Montana', 'Georgia', 'Pennsylvania', 'Texas', 'Virginia', 'Oklahoma', 'Colorado', 'Guam', 'Indiana'}\n",
      "\n",
      "pop_first_65plus_per\n",
      "{'Alaska', 'Michigan', 'Kentucky', 'Minnesota', 'Nebraska', 'New Mexico', 'California', 'South Dakota', 'Montana', 'Georgia', 'Pennsylvania', 'Virginia', 'Oklahoma', 'Colorado', 'Guam', 'Indiana'}\n",
      "\n"
     ]
    }
   ],
   "source": [
    "for v in var:\n",
    "    print(v)\n",
    "    print(set(vacc[vacc[v].isnull()]['state'].values.tolist()))\n",
    "    print()\n",
    "    \n",
    "#vacc[vacc.isnull().any(axis=1)].shape"
   ]
  },
  {
   "cell_type": "markdown",
   "metadata": {},
   "source": [
    "#### `Missing data` from these states:\n",
    "\n",
    "- `New Mexico` - 97% data missing for `pop_first_`\n",
    "- `Hawaii` - all data missing - drop\n",
    "- `Michigan` - 27% data missing for `pop_first_`\n",
    "- `Nebraska` - 95% data missing for `pop_first_`\n",
    "- `South Dakota` - 77% data missing for `pop_first_`\n",
    "- `California` - 14% data missing for all\n",
    "- `Texas` - data not recorded for 18over\n",
    "- `Georgia` - 11% data missing for `pop_first_`\n",
    "- `Alaska` - very little missing\n",
    "- `Idaho` - no over 12 data"
   ]
  },
  {
   "cell_type": "code",
   "execution_count": 58,
   "metadata": {},
   "outputs": [
    {
     "name": "stdout",
     "output_type": "stream",
     "text": [
      "state:  New Mexico\n",
      "fips                     0.000000\n",
      "state                    0.000000\n",
      "county                   0.000000\n",
      "state_abb                0.000000\n",
      "popfull_per              0.000000\n",
      "pop_full_12plus_per      0.000000\n",
      "pop_full_18plus_per      0.000000\n",
      "pop_full_65plus_per      0.000000\n",
      "pop_first_per           48.484848\n",
      "pop_first_12plus_per    96.969697\n",
      "pop_first_18plus_per    96.969697\n",
      "pop_first_65plus_per    96.969697\n",
      "svi                      3.030303\n",
      "metro                    0.000000\n",
      "dtype: float64\n",
      "\n",
      "state:  Hawaii\n",
      "fips                   NaN\n",
      "state                  NaN\n",
      "county                 NaN\n",
      "state_abb              NaN\n",
      "popfull_per            NaN\n",
      "pop_full_12plus_per    NaN\n",
      "pop_full_18plus_per    NaN\n",
      "pop_full_65plus_per    NaN\n",
      "pop_first_per          NaN\n",
      "pop_first_12plus_per   NaN\n",
      "pop_first_18plus_per   NaN\n",
      "pop_first_65plus_per   NaN\n",
      "svi                    NaN\n",
      "metro                  NaN\n",
      "dtype: float64\n",
      "\n",
      "state:  Michigan\n",
      "fips                     0.000000\n",
      "state                    0.000000\n",
      "county                   0.000000\n",
      "state_abb                0.000000\n",
      "popfull_per              0.000000\n",
      "pop_full_12plus_per      0.000000\n",
      "pop_full_18plus_per      0.000000\n",
      "pop_full_65plus_per      0.000000\n",
      "pop_first_per           24.096386\n",
      "pop_first_12plus_per    26.506024\n",
      "pop_first_18plus_per    26.506024\n",
      "pop_first_65plus_per    26.506024\n",
      "svi                      0.000000\n",
      "metro                    0.000000\n",
      "dtype: float64\n",
      "\n",
      "state:  Nebraska\n",
      "fips                     0.000000\n",
      "state                    0.000000\n",
      "county                   0.000000\n",
      "state_abb                0.000000\n",
      "popfull_per              0.000000\n",
      "pop_full_12plus_per      0.000000\n",
      "pop_full_18plus_per      0.000000\n",
      "pop_full_65plus_per      0.000000\n",
      "pop_first_per           72.043011\n",
      "pop_first_12plus_per    95.698925\n",
      "pop_first_18plus_per    95.698925\n",
      "pop_first_65plus_per    95.698925\n",
      "svi                      0.000000\n",
      "metro                    0.000000\n",
      "dtype: float64\n",
      "\n",
      "state:  South Dakota\n",
      "fips                     0.000000\n",
      "state                    0.000000\n",
      "county                   0.000000\n",
      "state_abb                0.000000\n",
      "popfull_per              0.000000\n",
      "pop_full_12plus_per      0.000000\n",
      "pop_full_18plus_per      0.000000\n",
      "pop_full_65plus_per      0.000000\n",
      "pop_first_per           56.060606\n",
      "pop_first_12plus_per    77.272727\n",
      "pop_first_18plus_per    77.272727\n",
      "pop_first_65plus_per    77.272727\n",
      "svi                      0.000000\n",
      "metro                    0.000000\n",
      "dtype: float64\n",
      "\n",
      "state:  California\n",
      "fips                     0.000000\n",
      "state                    0.000000\n",
      "county                   0.000000\n",
      "state_abb                0.000000\n",
      "popfull_per             13.793103\n",
      "pop_full_12plus_per     13.793103\n",
      "pop_full_18plus_per     13.793103\n",
      "pop_full_65plus_per     13.793103\n",
      "pop_first_per           13.793103\n",
      "pop_first_12plus_per    13.793103\n",
      "pop_first_18plus_per    13.793103\n",
      "pop_first_65plus_per    13.793103\n",
      "svi                      0.000000\n",
      "metro                    0.000000\n",
      "dtype: float64\n",
      "\n",
      "state:  Texas\n",
      "fips                      0.0\n",
      "state                     0.0\n",
      "county                    0.0\n",
      "state_abb                 0.0\n",
      "popfull_per               0.0\n",
      "pop_full_12plus_per       0.0\n",
      "pop_full_18plus_per     100.0\n",
      "pop_full_65plus_per       0.0\n",
      "pop_first_per           100.0\n",
      "pop_first_12plus_per      0.0\n",
      "pop_first_18plus_per    100.0\n",
      "pop_first_65plus_per      0.0\n",
      "svi                       0.0\n",
      "metro                     0.0\n",
      "dtype: float64\n",
      "\n",
      "state:  Georgia\n",
      "fips                     0.000000\n",
      "state                    0.000000\n",
      "county                   0.000000\n",
      "state_abb                0.000000\n",
      "popfull_per              0.000000\n",
      "pop_full_12plus_per      0.000000\n",
      "pop_full_18plus_per      0.000000\n",
      "pop_full_65plus_per      0.000000\n",
      "pop_first_per            0.628931\n",
      "pop_first_12plus_per    10.691824\n",
      "pop_first_18plus_per    10.691824\n",
      "pop_first_65plus_per    10.691824\n",
      "svi                      0.000000\n",
      "metro                    0.000000\n",
      "dtype: float64\n",
      "\n",
      "state:  Alaska\n",
      "fips                    0.000000\n",
      "state                   0.000000\n",
      "county                  0.000000\n",
      "state_abb               0.000000\n",
      "popfull_per             0.000000\n",
      "pop_full_12plus_per     3.448276\n",
      "pop_full_18plus_per     0.000000\n",
      "pop_full_65plus_per     0.000000\n",
      "pop_first_per           0.000000\n",
      "pop_first_12plus_per    6.896552\n",
      "pop_first_18plus_per    3.448276\n",
      "pop_first_65plus_per    3.448276\n",
      "svi                     0.000000\n",
      "metro                   3.448276\n",
      "dtype: float64\n",
      "\n",
      "state:  Idaho\n",
      "fips                      0.0\n",
      "state                     0.0\n",
      "county                    0.0\n",
      "state_abb                 0.0\n",
      "popfull_per               0.0\n",
      "pop_full_12plus_per     100.0\n",
      "pop_full_18plus_per       0.0\n",
      "pop_full_65plus_per       0.0\n",
      "pop_first_per             0.0\n",
      "pop_first_12plus_per    100.0\n",
      "pop_first_18plus_per      0.0\n",
      "pop_first_65plus_per      0.0\n",
      "svi                       0.0\n",
      "metro                     0.0\n",
      "dtype: float64\n",
      "\n"
     ]
    }
   ],
   "source": [
    "for s in ('New Mexico', 'Hawaii', 'Michigan', 'Nebraska', 'South Dakota', 'California', 'Texas', 'Georgia',\n",
    "         'Alaska', 'Idaho'):\n",
    "    \n",
    "    print('state: ', s)\n",
    "    print(vacc[vacc['state'] == s].isnull().sum() / vacc[vacc['state'] == s].shape[0] * 100)\n",
    "    print()\n",
    "    \n",
    "#vacc[vacc['state'] == 'Hawaii'].isnull().sum() / vacc[vacc['state'] == 'Hawaii'].shape[0] * 100"
   ]
  },
  {
   "cell_type": "markdown",
   "metadata": {},
   "source": [
    "**Remove `Hawaii`**"
   ]
  },
  {
   "cell_type": "code",
   "execution_count": 63,
   "metadata": {},
   "outputs": [],
   "source": [
    "vacc = vacc.drop(vacc[vacc['state'] == 'Hawaii'].index)\n",
    "vacc = vacc.drop(columns = ['svi','metro'])"
   ]
  },
  {
   "cell_type": "markdown",
   "metadata": {},
   "source": [
    "**Save data**"
   ]
  },
  {
   "cell_type": "code",
   "execution_count": 65,
   "metadata": {},
   "outputs": [],
   "source": [
    "vacc.to_csv('./data/clean/vaccination_rate_US.csv', index = False)"
   ]
  }
 ],
 "metadata": {
  "kernelspec": {
   "display_name": "Python 3",
   "language": "python",
   "name": "python3"
  },
  "language_info": {
   "codemirror_mode": {
    "name": "ipython",
    "version": 3
   },
   "file_extension": ".py",
   "mimetype": "text/x-python",
   "name": "python",
   "nbconvert_exporter": "python",
   "pygments_lexer": "ipython3",
   "version": "3.6.9"
  }
 },
 "nbformat": 4,
 "nbformat_minor": 2
}
